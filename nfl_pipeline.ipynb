{
 "cells": [
  {
   "cell_type": "code",
   "execution_count": null,
   "id": "ad9ca0bf",
   "metadata": {},
   "outputs": [],
   "source": [
    "print('Starting NFL Fantasy Pipeline...')\n",
    "print('Pipeline complete!')"
   ]
  },
  {
   "cell_type": "code",
   "execution_count": 64,
   "id": "4ac6ac5b",
   "metadata": {},
   "outputs": [],
   "source": [
    "#=========================== EXTRACTION ===========================\n",
    "# sample data\n",
    "\n",
    "players = [\n",
    "    {\n",
    "        'name': 'Josh Allen'\n",
    "        ,'position': 'QB'\n",
    "        ,'passing_yards': 300\n",
    "        ,'passing_touchdowns': 2\n",
    "        ,'rushing_yards': 50\n",
    "        ,'rushing_touchdowns': 1\n",
    "        ,'receptions': 0\n",
    "        ,'receiving_yards': 0\n",
    "        ,'receiving_touchdowns': 0\n",
    "    },\n",
    "    {\n",
    "        'name': 'Derrick Henry'\n",
    "        ,'position': 'RB'\n",
    "        ,'passing_yards': 0\n",
    "        ,'passing_touchdowns': 0\n",
    "        ,'rushing_yards': 120\n",
    "        ,'rushing_touchdowns': 2\n",
    "        ,'receptions': 3\n",
    "        ,'receiving_yards': 25\n",
    "        ,'receiving_touchdowns': 0\n",
    "    },\n",
    "    {\n",
    "        'name': 'Davante Adams'\n",
    "        ,'position': 'WR'\n",
    "        ,'passing_yards': 0\n",
    "        ,'passing_touchdowns': 0\n",
    "        ,'rushing_yards': 0\n",
    "        ,'rushing_touchdowns': 0\n",
    "        ,'receptions': 8\n",
    "        ,'receiving_yards': 95\n",
    "        ,'receiving_touchdowns': 1\n",
    "    }\n",
    "]\n",
    "\n",
    "# print(f'Our sample player: {player}')"
   ]
  },
  {
   "cell_type": "code",
   "execution_count": 65,
   "id": "02592583",
   "metadata": {},
   "outputs": [
    {
     "name": "stdout",
     "output_type": "stream",
     "text": [
      "We now have 3 players\n",
      "Players: ['Josh Allen', 'Derrick Henry', 'Davante Adams']\n"
     ]
    }
   ],
   "source": [
    "#=========================== TRANSFORM ===========================\n",
    "# calculate fantasy points\n",
    "\n",
    "def calculate_fantasy_points(player): \n",
    "    # Passing yards: 1 point per 25 yards (so 300 yards = 12 points)\n",
    "    # Passing touchdowns: 4 points each\n",
    "    # Rushing yards: 1 point per 10 yards\n",
    "    # Rushing touchdowns: 6 points each\n",
    "    # Receptions: 1 point each\n",
    "    # Receiving Yards: 1 point per 10 yards\n",
    "    # Receiving TDs: 6 points each\n",
    "\n",
    "    passing_points = player['passing_yards'] / 25 * 1\n",
    "    passing_td_points = player['passing_touchdowns'] * 4\n",
    "    rushing_points = player['rushing_yards'] / 10 * 1\n",
    "    rushing_td_points = player['rushing_touchdowns'] * 6\n",
    "    reception_points = player['receptions'] * 1\n",
    "    receiving_points = player['receiving_yards'] / 10 * 1\n",
    "    receiving_td_points = player['receiving_touchdowns'] * 6\n",
    "\n",
    "    total_points = (passing_points \n",
    "                    + passing_td_points \n",
    "                    + rushing_points \n",
    "                    + rushing_td_points\n",
    "                    + reception_points\n",
    "                    + receiving_points \n",
    "                    + receiving_td_points\n",
    "    )\n",
    "\n",
    "    return total_points\n",
    "\n",
    "print(f'We now have {len(players)} players')\n",
    "print('Players:', [p['name'] for p in players])"
   ]
  },
  {
   "cell_type": "code",
   "execution_count": 66,
   "id": "632b3b70",
   "metadata": {},
   "outputs": [
    {
     "name": "stdout",
     "output_type": "stream",
     "text": [
      "Josh Allen (QB): 31.0 fantasy points\n",
      "Derrick Henry (RB): 29.5 fantasy points\n",
      "Davante Adams (WR): 23.5 fantasy points\n"
     ]
    }
   ],
   "source": [
    "# calculate for all players in dataset\n",
    "\n",
    "# iterate through every player in the dataset to calculate their total fantasy points\n",
    "for player in players:\n",
    "    points = calculate_fantasy_points(player)\n",
    "    print(f'{player['name']} ({player['position']}): {points} fantasy points')"
   ]
  },
  {
   "cell_type": "code",
   "execution_count": 67,
   "id": "f1ab3c3b",
   "metadata": {},
   "outputs": [
    {
     "name": "stdout",
     "output_type": "stream",
     "text": [
      "Connected to database!\n",
      "Table created!\n"
     ]
    }
   ],
   "source": [
    "#=========================== LOAD ===========================\n",
    "\n",
    "import sqlite3\n",
    "\n",
    "# connect to database\n",
    "conn = sqlite3.connect('nfl_fantasy.db')\n",
    "print('Connected to database!')\n",
    "cursor = conn.cursor()\n",
    "\n",
    "#helps when re-running the code\n",
    "cursor.execute('''drop table if exists player_stats''')\n",
    "\n",
    "# create table for player/stats\n",
    "cursor.execute('''\n",
    "               create table player_stats (\n",
    "                name text\n",
    "                ,position text\n",
    "                ,week integer\n",
    "                ,fantasy_points real\n",
    "                ,primary key (name, week)\n",
    "                )\n",
    "''')\n",
    "\n",
    "conn.commit()\n",
    "conn.close()\n",
    "print('Table created!')"
   ]
  },
  {
   "cell_type": "code",
   "execution_count": 68,
   "id": "694c45bb",
   "metadata": {},
   "outputs": [
    {
     "name": "stdout",
     "output_type": "stream",
     "text": [
      "Week 1 data inserted!\n"
     ]
    }
   ],
   "source": [
    "# insert player data \n",
    "conn = sqlite3.connect('nfl_fantasy.db')\n",
    "cursor = conn.cursor()\n",
    "\n",
    "current_week = 1\n",
    "\n",
    "for player in players:\n",
    "    points = calculate_fantasy_points(player)\n",
    "    cursor.execute('''\n",
    "                insert or replace into player_stats \n",
    "                   (name\n",
    "                   ,position\n",
    "                   ,week\n",
    "                   ,fantasy_points)\n",
    "                values \n",
    "                   (?\n",
    "                   ,?\n",
    "                   ,?\n",
    "                   ,?)\n",
    "                ''', (player['name'], player['position'], current_week, points))\n",
    "    \n",
    "conn.commit()\n",
    "conn.close()\n",
    "print(f'Week {current_week} data inserted!')"
   ]
  },
  {
   "cell_type": "code",
   "execution_count": 69,
   "id": "09f9580c",
   "metadata": {},
   "outputs": [
    {
     "name": "stdout",
     "output_type": "stream",
     "text": [
      "Data in database:\n",
      "('Josh Allen', 'QB', 1, 31.0)\n",
      "('Derrick Henry', 'RB', 1, 29.5)\n",
      "('Davante Adams', 'WR', 1, 23.5)\n"
     ]
    }
   ],
   "source": [
    "# read sql table to see if data made it in the db\n",
    "\n",
    "conn = sqlite3.connect('nfl_fantasy.db')\n",
    "cursor = conn.cursor()\n",
    "\n",
    "# pull all data from table\n",
    "cursor.execute('select * from player_stats')\n",
    "results = cursor.fetchall()\n",
    "\n",
    "conn.close()\n",
    "\n",
    "print('Data in database:')\n",
    "for i in results:\n",
    "    print(i)"
   ]
  },
  {
   "cell_type": "code",
   "execution_count": null,
   "id": "928ec3fd",
   "metadata": {},
   "outputs": [],
   "source": [
    "###################### Adding week 2 data to test if system can handle multiple weeks for the same players"
   ]
  },
  {
   "cell_type": "code",
   "execution_count": null,
   "id": "f433a3a8",
   "metadata": {},
   "outputs": [
    {
     "name": "stdout",
     "output_type": "stream",
     "text": [
      "Week 2 player data created!\n"
     ]
    }
   ],
   "source": [
    "#=========================== extract ===========================\n",
    "\n",
    "# Week 2 data - Josh Allen has a bad game, others do well\n",
    "week2_players = [\n",
    "    {\n",
    "        \"name\": \"Josh Allen\"\n",
    "        ,\"position\": \"QB\"\n",
    "        ,\"passing_yards\": 200  # Bad passing game\n",
    "        ,\"passing_touchdowns\": 1\n",
    "        ,\"rushing_yards\": 20   # Less rushing\n",
    "        ,\"rushing_touchdowns\": 0\n",
    "        ,\"receptions\": 0\n",
    "        ,\"receiving_yards\": 0\n",
    "        ,\"receiving_touchdowns\": 0\n",
    "    },\n",
    "    {\n",
    "        \"name\": \"Derrick Henry\"\n",
    "        ,\"position\": \"RB\"\n",
    "        ,\"passing_yards\": 0\n",
    "        ,\"passing_touchdowns\": 0\n",
    "        ,\"rushing_yards\": 180  # Big game!\n",
    "        ,\"rushing_touchdowns\": 3\n",
    "        ,\"receptions\": 2\n",
    "        ,\"receiving_yards\": 30\n",
    "        ,\"receiving_touchdowns\": 0\n",
    "    },\n",
    "    {\n",
    "        \"name\": \"Davante Adams\"\n",
    "        ,\"position\": \"WR\"\n",
    "        ,\"passing_yards\": 0\n",
    "        ,\"passing_touchdowns\": 0\n",
    "        ,\"rushing_yards\": 0\n",
    "        ,\"rushing_touchdowns\": 0\n",
    "        ,\"receptions\": 12  # Monster receiving game\n",
    "        ,\"receiving_yards\": 150\n",
    "        ,\"receiving_touchdowns\": 2\n",
    "    }\n",
    "]\n",
    "\n",
    "print(\"Week 2 player data created!\")"
   ]
  },
  {
   "cell_type": "code",
   "execution_count": null,
   "id": "f320d2da",
   "metadata": {},
   "outputs": [
    {
     "name": "stdout",
     "output_type": "stream",
     "text": [
      "Josh Allen (QB): 14.0 fantasy points\n",
      "Derrick Henry (RB): 41.0 fantasy points\n",
      "Davante Adams (WR): 39.0 fantasy points\n"
     ]
    }
   ],
   "source": [
    "#=========================== transform ===========================\n",
    "\n",
    "for player in week2_players:\n",
    "    points = calculate_fantasy_points(player)\n",
    "    print(f'{player['name']} ({player['position']}): {points} fantasy points')"
   ]
  },
  {
   "cell_type": "code",
   "execution_count": 72,
   "id": "b4bbe23f",
   "metadata": {},
   "outputs": [
    {
     "name": "stdout",
     "output_type": "stream",
     "text": [
      "Week 2 data inserted!\n"
     ]
    }
   ],
   "source": [
    "#=========================== load ===========================\n",
    "\n",
    "conn = sqlite3.connect('nfl_fantasy.db')\n",
    "cursor = conn.cursor()\n",
    "\n",
    "# insert week 2 data\n",
    "current_week = 2\n",
    "\n",
    "for player in week2_players:\n",
    "    points = calculate_fantasy_points(player)\n",
    "    cursor.execute('''\n",
    "                insert or replace into player_stats \n",
    "                   (name\n",
    "                   ,position\n",
    "                   ,week\n",
    "                   ,fantasy_points)\n",
    "                values \n",
    "                   (?\n",
    "                   ,?\n",
    "                   ,?\n",
    "                   ,?)\n",
    "                ''', (player['name'], player['position'], current_week, points))\n",
    "    \n",
    "conn.commit()\n",
    "conn.close()\n",
    "print(f'Week {current_week} data inserted!')"
   ]
  },
  {
   "cell_type": "code",
   "execution_count": 73,
   "id": "889a14ec",
   "metadata": {},
   "outputs": [
    {
     "name": "stdout",
     "output_type": "stream",
     "text": [
      "All data in db:\n",
      "('Josh Allen', 'QB', 1, 31.0)\n",
      "('Derrick Henry', 'RB', 1, 29.5)\n",
      "('Davante Adams', 'WR', 1, 23.5)\n",
      "('Josh Allen', 'QB', 2, 14.0)\n",
      "('Derrick Henry', 'RB', 2, 41.0)\n",
      "('Davante Adams', 'WR', 2, 39.0)\n"
     ]
    }
   ],
   "source": [
    "# read sql table to see if week 2 data made it in the db\n",
    "\n",
    "conn = sqlite3.connect('nfl_fantasy.db')\n",
    "cursor = conn.cursor()\n",
    "\n",
    "cursor.execute('''select * from player_stats''')\n",
    "results = cursor.fetchall()\n",
    "\n",
    "conn.close()\n",
    "\n",
    "print('All data in db:')\n",
    "for i in results:\n",
    "    print(i)"
   ]
  },
  {
   "cell_type": "code",
   "execution_count": null,
   "id": "f20e4f08",
   "metadata": {},
   "outputs": [],
   "source": [
    "#=========================== Try pulling in real data ==========================="
   ]
  },
  {
   "cell_type": "code",
   "execution_count": null,
   "id": "bf8f8aa4",
   "metadata": {},
   "outputs": [
    {
     "name": "stdout",
     "output_type": "stream",
     "text": [
      "Path to dataset files: C:\\Users\\kcmcs\\.cache\\kagglehub\\datasets\\sidsugathan\\fantasy-football-agent-dataset\\versions\\16\n",
      "Dataset downloaded successfully!\n",
      "Copied nfl_coaching_staff_2021_2024.csv to ./data/\n",
      "Copied performance_data_with_ids_cleaned_2021_2024.csv to ./data/\n",
      "Copied player_id_mapping_master_cleaned.csv to ./data/\n",
      "Copied pre_draft_rankings_with_2024_tiers.csv to ./data/\n",
      "Copied rookie_metadata_with_blurbs_and_ids_cleaned_2021_2024.csv to ./data/\n",
      "Copied weekly_fantasy_scores_2024_with_ids.csv to ./data/\n",
      "\n",
      "Files now in your project at: ./data/\n"
     ]
    }
   ],
   "source": [
    "import kagglehub\n",
    "import shutil\n",
    "import os\n",
    "\n",
    "# download fantasy-football-agent-dataset from kaggle\n",
    "\n",
    "# url: https://www.kaggle.com/datasets/sidsugathan/fantasy-football-agent-dataset\n",
    "\n",
    "try:\n",
    "    path = kagglehub.dataset_download(\"sidsugathan/fantasy-football-agent-dataset\")\n",
    "    print(\"Path to dataset files:\", path)\n",
    "    print(\"Dataset downloaded successfully!\")\n",
    "\n",
    "    # copy downloaded files to current project folder\n",
    "    project_data_path = './data/'\n",
    "    os.makedirs(project_data_path, exist_ok=True)\n",
    "\n",
    "    # copy all csv files to project folder\n",
    "    for file in os.listdir(path):\n",
    "        if file.endswith('.csv'):\n",
    "            source = os.path.join(path, file)\n",
    "            destination = os.path.join(project_data_path, file)\n",
    "            shutil.copy2(source, destination)   # .copy2() overwrites files that already exist, avoids dupes\n",
    "            print(f'Copied {file} to ./data/')\n",
    "\n",
    "    print(f'\\nFiles now in your project at: {project_data_path}')\n",
    "\n",
    "except Exception as e:\n",
    "    print(f\"Error downloading dataset: {e}\")\n",
    "    print(\"This might require Kaggle authentication\")"
   ]
  }
 ],
 "metadata": {
  "kernelspec": {
   "display_name": "Python 3",
   "language": "python",
   "name": "python3"
  },
  "language_info": {
   "codemirror_mode": {
    "name": "ipython",
    "version": 3
   },
   "file_extension": ".py",
   "mimetype": "text/x-python",
   "name": "python",
   "nbconvert_exporter": "python",
   "pygments_lexer": "ipython3",
   "version": "3.13.6"
  }
 },
 "nbformat": 4,
 "nbformat_minor": 5
}
