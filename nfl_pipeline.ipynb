{
 "cells": [
  {
   "cell_type": "code",
   "execution_count": 92,
   "id": "ad9ca0bf",
   "metadata": {},
   "outputs": [
    {
     "name": "stdout",
     "output_type": "stream",
     "text": [
      "Starting NFL Fantasy Pipeline...\n",
      "Pipeline complete!\n"
     ]
    }
   ],
   "source": [
    "print('Starting NFL Fantasy Pipeline...')\n",
    "print('Pipeline complete!')"
   ]
  },
  {
   "cell_type": "code",
   "execution_count": 93,
   "id": "4ac6ac5b",
   "metadata": {},
   "outputs": [],
   "source": [
    "#=========================== EXTRACTION ===========================\n",
    "# sample data\n",
    "\n",
    "players = [\n",
    "    {\n",
    "        'name': 'Josh Allen'\n",
    "        ,'position': 'QB'\n",
    "        ,'passing_yards': 300\n",
    "        ,'passing_touchdowns': 2\n",
    "        ,'rushing_yards': 50\n",
    "        ,'rushing_touchdowns': 1\n",
    "        ,'receptions': 0\n",
    "        ,'receiving_yards': 0\n",
    "        ,'receiving_touchdowns': 0\n",
    "    },\n",
    "    {\n",
    "        'name': 'Derrick Henry'\n",
    "        ,'position': 'RB'\n",
    "        ,'passing_yards': 0\n",
    "        ,'passing_touchdowns': 0\n",
    "        ,'rushing_yards': 120\n",
    "        ,'rushing_touchdowns': 2\n",
    "        ,'receptions': 3\n",
    "        ,'receiving_yards': 25\n",
    "        ,'receiving_touchdowns': 0\n",
    "    },\n",
    "    {\n",
    "        'name': 'Davante Adams'\n",
    "        ,'position': 'WR'\n",
    "        ,'passing_yards': 0\n",
    "        ,'passing_touchdowns': 0\n",
    "        ,'rushing_yards': 0\n",
    "        ,'rushing_touchdowns': 0\n",
    "        ,'receptions': 8\n",
    "        ,'receiving_yards': 95\n",
    "        ,'receiving_touchdowns': 1\n",
    "    }\n",
    "]\n",
    "\n",
    "# print(f'Our sample player: {player}')"
   ]
  },
  {
   "cell_type": "code",
   "execution_count": 94,
   "id": "02592583",
   "metadata": {},
   "outputs": [
    {
     "name": "stdout",
     "output_type": "stream",
     "text": [
      "We now have 3 players\n",
      "Players: ['Josh Allen', 'Derrick Henry', 'Davante Adams']\n"
     ]
    }
   ],
   "source": [
    "#=========================== TRANSFORM ===========================\n",
    "# calculate fantasy points\n",
    "\n",
    "def calculate_fantasy_points(player): \n",
    "    # Passing yards: 1 point per 25 yards (so 300 yards = 12 points)\n",
    "    # Passing touchdowns: 4 points each\n",
    "    # Rushing yards: 1 point per 10 yards\n",
    "    # Rushing touchdowns: 6 points each\n",
    "    # Receptions: 1 point each\n",
    "    # Receiving Yards: 1 point per 10 yards\n",
    "    # Receiving TDs: 6 points each\n",
    "\n",
    "    passing_points = player['passing_yards'] / 25 * 1\n",
    "    passing_td_points = player['passing_touchdowns'] * 4\n",
    "    rushing_points = player['rushing_yards'] / 10 * 1\n",
    "    rushing_td_points = player['rushing_touchdowns'] * 6\n",
    "    reception_points = player['receptions'] * 1\n",
    "    receiving_points = player['receiving_yards'] / 10 * 1\n",
    "    receiving_td_points = player['receiving_touchdowns'] * 6\n",
    "\n",
    "    total_points = (passing_points \n",
    "                    + passing_td_points \n",
    "                    + rushing_points \n",
    "                    + rushing_td_points\n",
    "                    + reception_points\n",
    "                    + receiving_points \n",
    "                    + receiving_td_points\n",
    "    )\n",
    "\n",
    "    return total_points\n",
    "\n",
    "print(f'We now have {len(players)} players')\n",
    "print('Players:', [p['name'] for p in players])"
   ]
  },
  {
   "cell_type": "code",
   "execution_count": 95,
   "id": "632b3b70",
   "metadata": {},
   "outputs": [
    {
     "name": "stdout",
     "output_type": "stream",
     "text": [
      "Josh Allen (QB): 31.0 fantasy points\n",
      "Derrick Henry (RB): 29.5 fantasy points\n",
      "Davante Adams (WR): 23.5 fantasy points\n"
     ]
    }
   ],
   "source": [
    "# calculate for all players in dataset\n",
    "\n",
    "# iterate through every player in the dataset to calculate their total fantasy points\n",
    "for player in players:\n",
    "    points = calculate_fantasy_points(player)\n",
    "    print(f'{player['name']} ({player['position']}): {points} fantasy points')"
   ]
  },
  {
   "cell_type": "code",
   "execution_count": 96,
   "id": "f1ab3c3b",
   "metadata": {},
   "outputs": [
    {
     "name": "stdout",
     "output_type": "stream",
     "text": [
      "Connected to database!\n",
      "Table created!\n"
     ]
    }
   ],
   "source": [
    "#=========================== LOAD ===========================\n",
    "\n",
    "import sqlite3\n",
    "\n",
    "# connect to database\n",
    "conn = sqlite3.connect('nfl_fantasy.db')\n",
    "print('Connected to database!')\n",
    "cursor = conn.cursor()\n",
    "\n",
    "#helps when re-running the code\n",
    "cursor.execute('''drop table if exists player_stats''')\n",
    "\n",
    "# create table for player/stats\n",
    "cursor.execute('''\n",
    "               create table player_stats (\n",
    "                name text\n",
    "                ,position text\n",
    "                ,week integer\n",
    "                ,fantasy_points real\n",
    "                ,primary key (name, week)\n",
    "                )\n",
    "''')\n",
    "\n",
    "conn.commit()\n",
    "conn.close()\n",
    "print('Table created!')"
   ]
  },
  {
   "cell_type": "code",
   "execution_count": 97,
   "id": "694c45bb",
   "metadata": {},
   "outputs": [
    {
     "name": "stdout",
     "output_type": "stream",
     "text": [
      "Week 1 data inserted!\n"
     ]
    }
   ],
   "source": [
    "# insert player data \n",
    "conn = sqlite3.connect('nfl_fantasy.db')\n",
    "cursor = conn.cursor()\n",
    "\n",
    "current_week = 1\n",
    "\n",
    "for player in players:\n",
    "    points = calculate_fantasy_points(player)\n",
    "    cursor.execute('''\n",
    "                insert or replace into player_stats \n",
    "                   (name\n",
    "                   ,position\n",
    "                   ,week\n",
    "                   ,fantasy_points)\n",
    "                values \n",
    "                   (?\n",
    "                   ,?\n",
    "                   ,?\n",
    "                   ,?)\n",
    "                ''', (player['name'], player['position'], current_week, points))\n",
    "    \n",
    "conn.commit()\n",
    "conn.close()\n",
    "print(f'Week {current_week} data inserted!')"
   ]
  },
  {
   "cell_type": "code",
   "execution_count": 98,
   "id": "09f9580c",
   "metadata": {},
   "outputs": [
    {
     "name": "stdout",
     "output_type": "stream",
     "text": [
      "Data in database:\n",
      "('Josh Allen', 'QB', 1, 31.0)\n",
      "('Derrick Henry', 'RB', 1, 29.5)\n",
      "('Davante Adams', 'WR', 1, 23.5)\n"
     ]
    }
   ],
   "source": [
    "# read sql table to see if data made it in the db\n",
    "\n",
    "conn = sqlite3.connect('nfl_fantasy.db')\n",
    "cursor = conn.cursor()\n",
    "\n",
    "# pull all data from table\n",
    "cursor.execute('select * from player_stats')\n",
    "results = cursor.fetchall()\n",
    "\n",
    "conn.close()\n",
    "\n",
    "print('Data in database:')\n",
    "for i in results:\n",
    "    print(i)"
   ]
  },
  {
   "cell_type": "code",
   "execution_count": 99,
   "id": "928ec3fd",
   "metadata": {},
   "outputs": [
    {
     "name": "stdout",
     "output_type": "stream",
     "text": [
      "Data in database:\n",
      "('Josh Allen', 'QB', 1, 31.0)\n",
      "('Derrick Henry', 'RB', 1, 29.5)\n",
      "('Davante Adams', 'WR', 1, 23.5)\n"
     ]
    }
   ],
   "source": [
    "###################### Adding week 2 data to test if system can handle multiple weeks for the same players"
   ]
  },
  {
   "cell_type": "code",
   "execution_count": 100,
   "id": "f433a3a8",
   "metadata": {},
   "outputs": [
    {
     "name": "stdout",
     "output_type": "stream",
     "text": [
      "Week 2 player data created!\n"
     ]
    }
   ],
   "source": [
    "#=========================== extract ===========================\n",
    "\n",
    "# Week 2 data - Josh Allen has a bad game, others do well\n",
    "week2_players = [\n",
    "    {\n",
    "        \"name\": \"Josh Allen\"\n",
    "        ,\"position\": \"QB\"\n",
    "        ,\"passing_yards\": 200  # Bad passing game\n",
    "        ,\"passing_touchdowns\": 1\n",
    "        ,\"rushing_yards\": 20   # Less rushing\n",
    "        ,\"rushing_touchdowns\": 0\n",
    "        ,\"receptions\": 0\n",
    "        ,\"receiving_yards\": 0\n",
    "        ,\"receiving_touchdowns\": 0\n",
    "    },\n",
    "    {\n",
    "        \"name\": \"Derrick Henry\"\n",
    "        ,\"position\": \"RB\"\n",
    "        ,\"passing_yards\": 0\n",
    "        ,\"passing_touchdowns\": 0\n",
    "        ,\"rushing_yards\": 180  # Big game!\n",
    "        ,\"rushing_touchdowns\": 3\n",
    "        ,\"receptions\": 2\n",
    "        ,\"receiving_yards\": 30\n",
    "        ,\"receiving_touchdowns\": 0\n",
    "    },\n",
    "    {\n",
    "        \"name\": \"Davante Adams\"\n",
    "        ,\"position\": \"WR\"\n",
    "        ,\"passing_yards\": 0\n",
    "        ,\"passing_touchdowns\": 0\n",
    "        ,\"rushing_yards\": 0\n",
    "        ,\"rushing_touchdowns\": 0\n",
    "        ,\"receptions\": 12  # Monster receiving game\n",
    "        ,\"receiving_yards\": 150\n",
    "        ,\"receiving_touchdowns\": 2\n",
    "    }\n",
    "]\n",
    "\n",
    "print(\"Week 2 player data created!\")"
   ]
  },
  {
   "cell_type": "code",
   "execution_count": 101,
   "id": "f320d2da",
   "metadata": {},
   "outputs": [
    {
     "name": "stdout",
     "output_type": "stream",
     "text": [
      "Josh Allen (QB): 14.0 fantasy points\n",
      "Derrick Henry (RB): 41.0 fantasy points\n",
      "Davante Adams (WR): 39.0 fantasy points\n"
     ]
    }
   ],
   "source": [
    "#=========================== transform ===========================\n",
    "\n",
    "for player in week2_players:\n",
    "    points = calculate_fantasy_points(player)\n",
    "    print(f'{player['name']} ({player['position']}): {points} fantasy points')"
   ]
  },
  {
   "cell_type": "code",
   "execution_count": 102,
   "id": "b4bbe23f",
   "metadata": {},
   "outputs": [],
   "source": [
    "#=========================== load ===========================\n",
    "\n",
    "conn = sqlite3.connect('nfl_fantasy.db')\n",
    "cursor = conn.cursor()\n",
    "\n",
    "# insert week 2 data\n",
    "current_week = 2\n",
    "\n",
    "for player in week2_players:\n",
    "    points = calculate_fantasy_points(player)\n",
    "    cursor.execute('''\n",
    "                insert or replace into player_stats \n",
    "                   (name\n",
    "                   ,position\n",
    "                   ,week\n",
    "                   ,fantasy_points)\n",
    "                values \n",
    "                   (?\n",
    "                   ,?\n",
    "                   ,?\n",
    "                   ,?)\n",
    "                ''', (player['name'], player['position'], current_week, points))\n",
    "    \n",
    "conn.commit()\n",
    "conn.close()\n",
    "print(f'Week {current_week} data inserted!')"
   ]
  },
  {
   "cell_type": "code",
   "execution_count": 103,
   "id": "889a14ec",
   "metadata": {},
   "outputs": [
    {
     "name": "stdout",
     "output_type": "stream",
     "text": [
      "Week 2 data inserted!\n"
     ]
    }
   ],
   "source": [
    "# read sql table to see if week 2 data made it in the db\n",
    "\n",
    "conn = sqlite3.connect('nfl_fantasy.db')\n",
    "cursor = conn.cursor()\n",
    "\n",
    "cursor.execute('''select * from player_stats''')\n",
    "results = cursor.fetchall()\n",
    "\n",
    "conn.close()\n",
    "\n",
    "print('All data in db:')\n",
    "for i in results:\n",
    "    print(i)"
   ]
  },
  {
   "cell_type": "code",
   "execution_count": 104,
   "id": "f20e4f08",
   "metadata": {},
   "outputs": [
    {
     "name": "stdout",
     "output_type": "stream",
     "text": [
      "All data in db:\n",
      "('Josh Allen', 'QB', 1, 31.0)\n",
      "('Derrick Henry', 'RB', 1, 29.5)\n",
      "('Davante Adams', 'WR', 1, 23.5)\n",
      "('Josh Allen', 'QB', 2, 14.0)\n",
      "('Derrick Henry', 'RB', 2, 41.0)\n",
      "('Davante Adams', 'WR', 2, 39.0)\n"
     ]
    }
   ],
   "source": [
    "#=========================== Try pulling in real data ==========================="
   ]
  },
  {
   "cell_type": "code",
   "execution_count": 105,
   "id": "bf8f8aa4",
   "metadata": {},
   "outputs": [
    {
     "name": "stdout",
     "output_type": "stream",
     "text": [
      "Path to dataset files: C:\\Users\\kcmcs\\.cache\\kagglehub\\datasets\\sidsugathan\\fantasy-football-agent-dataset\\versions\\16\n",
      "Dataset downloaded successfully!\n",
      "Copied nfl_coaching_staff_2021_2024.csv to ./data/\n",
      "Copied performance_data_with_ids_cleaned_2021_2024.csv to ./data/\n",
      "Copied player_id_mapping_master_cleaned.csv to ./data/\n",
      "Copied pre_draft_rankings_with_2024_tiers.csv to ./data/\n",
      "Copied rookie_metadata_with_blurbs_and_ids_cleaned_2021_2024.csv to ./data/\n",
      "Copied weekly_fantasy_scores_2024_with_ids.csv to ./data/\n",
      "\n",
      "Files now in your project at: ./data/\n"
     ]
    }
   ],
   "source": [
    "import kagglehub\n",
    "import shutil\n",
    "import os\n",
    "\n",
    "# download fantasy-football-agent-dataset from kaggle\n",
    "\n",
    "# url: https://www.kaggle.com/datasets/sidsugathan/fantasy-football-agent-dataset\n",
    "\n",
    "try:\n",
    "    path = kagglehub.dataset_download(\"sidsugathan/fantasy-football-agent-dataset\")\n",
    "    print(\"Path to dataset files:\", path)\n",
    "    print(\"Dataset downloaded successfully!\")\n",
    "\n",
    "    # copy downloaded files to current project folder\n",
    "    project_data_path = './data/'\n",
    "    os.makedirs(project_data_path, exist_ok=True)\n",
    "\n",
    "    # copy all csv files to project folder\n",
    "    for file in os.listdir(path):\n",
    "        if file.endswith('.csv'):\n",
    "            source = os.path.join(path, file)\n",
    "            destination = os.path.join(project_data_path, file)\n",
    "            shutil.copy2(source, destination)   # .copy2() overwrites files that already exist, avoids dupes\n",
    "            print(f'Copied {file} to ./data/')\n",
    "\n",
    "    print(f'\\nFiles now in your project at: {project_data_path}')\n",
    "\n",
    "except Exception as e:\n",
    "    print(f\"Error downloading dataset: {e}\")\n",
    "    print(\"This might require Kaggle authentication\")"
   ]
  },
  {
   "cell_type": "code",
   "execution_count": 106,
   "id": "bcd674d1",
   "metadata": {},
   "outputs": [
    {
     "name": "stdout",
     "output_type": "stream",
     "text": [
      "Dataset shape: (4407, 7)\n",
      "\n",
      "Columns:\n",
      "['player_id', 'player_name', 'position', 'team', 'week', 'points', 'canonical_player_id']\n"
     ]
    }
   ],
   "source": [
    "# what's in the weekly_fantasy_scores_2024_with_ids.csv\n",
    "import pandas as pd\n",
    "df = pd.read_csv('./data/weekly_fantasy_scores_2024_with_ids.csv')\n",
    "\n",
    "print('Dataset shape:', df.shape)\n",
    "print('\\nColumns:')\n",
    "print(df.columns.tolist())\n",
    "\n",
    "# df.head()"
   ]
  },
  {
   "cell_type": "code",
   "execution_count": 107,
   "id": "65e608ff",
   "metadata": {},
   "outputs": [
    {
     "name": "stdout",
     "output_type": "stream",
     "text": [
      "Dataset shape: (4407, 7)\n",
      "Unique positions: ['RB' 'WR' 'TE' 'QB' 'DST']\n",
      "Number of Unique Players: 553\n",
      "\n",
      "Top Performances in dataset:\n",
      "         player_name position team  week  points\n",
      "560   Ja'Marr Chase*       WR  CIN  10.0   55.40\n",
      "139       Josh Allen       QB  BUF  14.0   51.88\n",
      "1862  Jauan Jennings       WR   SF   3.0   46.50\n",
      "227   Saquon Barkley       RB  NYG  12.0   46.20\n",
      "563   Ja'Marr Chase*       WR  CIN  14.0   45.10\n",
      "\n",
      "Sample QB data:\n",
      "<bound method DataFrame.to_string of        player_name team  week  points\n",
      "113  Brandon Allen  CIN  12.0    8.46\n",
      "127     Josh Allen  BUF   1.0   31.18\n",
      "128     Josh Allen  BUF   2.0    9.76>\n"
     ]
    }
   ],
   "source": [
    "# explore full dataset\n",
    "print(f'Dataset shape: {df.shape}')\n",
    "print(f'Unique positions: {df['position'].unique()}')   #unique positions\n",
    "print(f'Number of Unique Players: {df['player_name'].nunique()}')   #numb of unique players\n",
    "\n",
    "# top 5 performances\n",
    "print(f'\\nTop Performances in dataset:')\n",
    "top_weeks = df.nlargest(5, 'points')[['player_name', 'position', 'team', 'week', 'points']]\n",
    "print(top_weeks.to_string())\n",
    "\n",
    "# look at QBs to see if we can use this dataset to replace intial sample data above\n",
    "print('\\nSample QB data:')\n",
    "qb_sample = df[df['position'] == 'QB'].head(3)\n",
    "print(qb_sample[['player_name', 'team', 'week', 'points']].to_string)"
   ]
  },
  {
   "cell_type": "code",
   "execution_count": null,
   "id": "42d72861",
   "metadata": {},
   "outputs": [
    {
     "name": "stdout",
     "output_type": "stream",
     "text": [
      "Getting real NFL players from 2024 Week 1\n",
      "     player_id player_name position team  week  points canonical_player_id\n",
      "127  alljos001  Josh Allen       QB  BUF   1.0   31.18           alljos001\n",
      "\n",
      "Top RB in Week 1:\n",
      "     player_id     player_name position team  week  points canonical_player_id\n",
      "217  barsaq001  Saquon Barkley       RB  NYG   1.0    33.2           barsaq001\n",
      "\n",
      "Top WR from Week 1:\n",
      "      player_id  player_name position team  week  points canonical_player_id\n",
      "3046  reejay001  Jayden Reed       WR   GB   1.0    33.1           reejay001\n",
      "\n",
      "Top TE from Week 1:\n",
      "      player_id    player_name position team  week  points canonical_player_id\n",
      "2217  likisa001  Isaiah Likely       TE  BAL   1.0    26.1           likisa001\n"
     ]
    }
   ],
   "source": [
    "# begin to replace mock data with real data from week 1 - 20204 kaggle dataset\n",
    "print('Getting real NFL players from 2024 Week 1')\n",
    "\n",
    "# print(f'Week column dt: {df['week'].dtype}')      # double check 'week' dt\n",
    "\n",
    "# pull josh allen's actual week 1 performance\n",
    "josh_real = df[(df['player_name'] == 'Josh Allen') & (df['week'] == 1.0)]\n",
    "print(josh_real)\n",
    "\n",
    "\n",
    "# pull top RB from week 1\n",
    "print('\\nTop RB in Week 1:')\n",
    "week1_rbs = df[(df['position'] == 'RB') & (df['week'] == 1.0)]\n",
    "# print(week1_rbs)  #week 1 RBs\n",
    "top_rb_week1 = week1_rbs.nlargest(1, 'points')\n",
    "print(top_rb_week1)\n",
    "\n",
    "# pull top WR from week 1\n",
    "print('\\nTop WR from Week 1:')\n",
    "week1_wrs = df[(df['position'] == 'WR') & (df['week'] == 1.0)]\n",
    "# print(week1_wrs)\n",
    "top_wr_week1 = week1_wrs.nlargest(1, 'points')\n",
    "print(top_wr_week1)\n",
    "\n",
    "# pull top TE from week 1\n",
    "print('\\nTop TE from Week 1:')\n",
    "week1_tes = df[(df['position'] == 'TE') & (df['week'] == 1.0)]\n",
    "# print(week1_tes)\n",
    "top_te_week1 = week1_tes.nlargest(1, 'points')\n",
    "print(top_te_week1)"
   ]
  },
  {
   "cell_type": "code",
   "execution_count": null,
   "id": "d8d5e7e8",
   "metadata": {},
   "outputs": [
    {
     "name": "stdout",
     "output_type": "stream",
     "text": [
      "\n",
      "Real NFL Week 1 performers:\n",
      "QB: Josh Allen (BUF) - 31.18 points\n",
      "RB: Saquon Barkley (NYG) - 33.2 points\n",
      "WR: Jayden Reed (GB) - 33.1 points\n",
      "TE: Isaiah Likely (BAL) - 26.1 points\n"
     ]
    }
   ],
   "source": [
    "# identify top performers in dataset\n",
    "print(\"\\nReal NFL Week 1 performers:\")\n",
    "\n",
    "if not josh_real.empty:\n",
    "    player = josh_real.iloc[0]\n",
    "    print(f\"QB: {player['player_name']} ({player['team']}) - {player['points']} points\")\n",
    "\n",
    "if not top_rb_week1.empty:\n",
    "    player = top_rb_week1.iloc[0]\n",
    "    print(f\"RB: {player['player_name']} ({player['team']}) - {player['points']} points\")\n",
    "\n",
    "if not top_wr_week1.empty:\n",
    "    player = top_wr_week1.iloc[0]\n",
    "    print(f\"WR: {player['player_name']} ({player['team']}) - {player['points']} points\")\n",
    "\n",
    "if not top_te_week1.empty:\n",
    "    player = top_te_week1.iloc[0]\n",
    "    print(f\"TE: {player['player_name']} ({player['team']}) - {player['points']} points\")"
   ]
  },
  {
   "cell_type": "code",
   "execution_count": 124,
   "id": "da2fe5b6",
   "metadata": {},
   "outputs": [
    {
     "name": "stdout",
     "output_type": "stream",
     "text": [
      "Real players ready for ETL pipeline:\n",
      "Josh Allen (QB) - 31.18 points\n",
      "Saquon Barkley (RB) - 33.2 points\n",
      "Jayden Reed (WR) - 33.1 points\n",
      "Isaiah Likely (TE) - 26.1 points\n"
     ]
    }
   ],
   "source": [
    "# extract real NFL players from Week 1 data to replace mock data in our ETL pipeline\n",
    "\n",
    "# create real_players list using the actual NFL data\n",
    "real_players_week1 = []\n",
    "\n",
    "if not josh_real.empty:\n",
    "    real_players_week1.append({\n",
    "        'name': josh_real.iloc[0]['player_name']\n",
    "        ,'position': josh_real.iloc[0]['position']\n",
    "        ,'team': josh_real.iloc[0]['team']\n",
    "        ,'week': josh_real.iloc[0]['week']\n",
    "        ,'fantasy_points': josh_real.iloc[0]['points']\n",
    "    })\n",
    "\n",
    "if not top_rb_week1.empty:\n",
    "    real_players_week1.append({\n",
    "        'name': top_rb_week1.iloc[0]['player_name']\n",
    "        ,'position': top_rb_week1.iloc[0]['position']\n",
    "        ,'team': top_rb_week1.iloc[0]['team']\n",
    "        ,'week': top_rb_week1.iloc[0]['week']\n",
    "        ,'fantasy_points': top_rb_week1.iloc[0]['points']\n",
    "    })\n",
    "\n",
    "if not top_wr_week1.empty:\n",
    "    real_players_week1.append({\n",
    "        'name': top_wr_week1.iloc[0]['player_name']\n",
    "        ,'position': top_wr_week1.iloc[0]['position']\n",
    "        ,'team': top_wr_week1.iloc[0]['team']\n",
    "        ,'week': top_wr_week1.iloc[0]['week']\n",
    "        ,'fantasy_points': top_wr_week1.iloc[0]['points']\n",
    "    })\n",
    "\n",
    "if not top_te_week1.empty:\n",
    "    real_players_week1.append({\n",
    "        'name': top_te_week1.iloc[0]['player_name']\n",
    "        ,'position': top_te_week1.iloc[0]['position']\n",
    "        ,'team': top_te_week1.iloc[0]['team']\n",
    "        ,'week': top_te_week1.iloc[0]['week']\n",
    "        ,'fantasy_points': top_te_week1.iloc[0]['points']\n",
    "    })\n",
    "\n",
    "print('Real players ready for ETL pipeline:')\n",
    "for player in real_players_week1:\n",
    "    print(f'{player['name']} ({player['position']}) - {player['fantasy_points']} points')\n"
   ]
  },
  {
   "cell_type": "code",
   "execution_count": 125,
   "id": "a6537286",
   "metadata": {},
   "outputs": [
    {
     "name": "stdout",
     "output_type": "stream",
     "text": [
      "Current data in database:\n",
      "('Josh Allen', 'QB', 1, 31.0)\n",
      "('Derrick Henry', 'RB', 1, 29.5)\n",
      "('Davante Adams', 'WR', 1, 23.5)\n",
      "('Derrick Henry', 'RB', 2, 41.0)\n",
      "('Davante Adams', 'WR', 2, 39.0)\n",
      "('Josh Allen', 'QB', 2, 14.0)\n"
     ]
    }
   ],
   "source": [
    "# Check current database contents\n",
    "import sqlite3\n",
    "\n",
    "conn = sqlite3.connect('nfl_fantasy.db')\n",
    "cursor = conn.cursor()\n",
    "\n",
    "cursor.execute('SELECT * FROM player_stats ORDER BY week, fantasy_points DESC')\n",
    "results = cursor.fetchall()\n",
    "\n",
    "conn.close()\n",
    "\n",
    "print('Current data in database:')\n",
    "for row in results:\n",
    "    print(row)"
   ]
  }
 ],
 "metadata": {
  "kernelspec": {
   "display_name": "Python 3",
   "language": "python",
   "name": "python3"
  },
  "language_info": {
   "codemirror_mode": {
    "name": "ipython",
    "version": 3
   },
   "file_extension": ".py",
   "mimetype": "text/x-python",
   "name": "python",
   "nbconvert_exporter": "python",
   "pygments_lexer": "ipython3",
   "version": "3.13.7"
  }
 },
 "nbformat": 4,
 "nbformat_minor": 5
}
