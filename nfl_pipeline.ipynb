{
 "cells": [
  {
   "cell_type": "code",
   "execution_count": null,
   "id": "ad9ca0bf",
   "metadata": {},
   "outputs": [],
   "source": [
    "print(\"Starting NFL Fantasy Pipeline...\")\n",
    "print(\"Pipeline complete!\")"
   ]
  },
  {
   "cell_type": "code",
   "execution_count": null,
   "id": "4ac6ac5b",
   "metadata": {},
   "outputs": [
    {
     "name": "stdout",
     "output_type": "stream",
     "text": [
      "Our sample player: {'name': 'Josh Allen', 'position': 'QB', 'passing_yards': 300, 'passing_touchdowns': 2, 'rushing_yards': 50, 'rushing_touchdowns': 1, 'receptions': 0, 'receiving_yards': 0, 'receiving_touchdowns': 0}\n"
     ]
    }
   ],
   "source": [
    "# sample data\n",
    "\n",
    "players = [\n",
    "    {\n",
    "        \"name\": \"Josh Allen\"\n",
    "        ,\"position\": \"QB\"\n",
    "        ,\"passing_yards\": 300\n",
    "        ,\"passing_touchdowns\": 2\n",
    "        ,\"rushing_yards\": 50\n",
    "        ,\"rushing_touchdowns\": 1\n",
    "        ,\"receptions\": 0\n",
    "        ,\"receiving_yards\": 0\n",
    "        ,\"receiving_touchdowns\": 0\n",
    "    },\n",
    "    {\n",
    "        \"name\": \"Derrick Henry\"\n",
    "        ,\"position\": \"RB\"\n",
    "        ,\"passing_yards\": 0\n",
    "        ,\"passing_touchdowns\": 0\n",
    "        ,\"rushing_yards\": 120\n",
    "        ,\"rushing_touchdowns\": 2\n",
    "        ,\"receptions\": 3\n",
    "        ,\"receiving_yards\": 25\n",
    "        ,\"receiving_touchdowns\": 0\n",
    "    },\n",
    "    {\n",
    "        \"name\": \"Davante Adams\"\n",
    "        ,\"position\": \"WR\"\n",
    "        ,\"passing_yards\": 0\n",
    "        ,\"passing_touchdowns\": 0\n",
    "        ,\"rushing_yards\": 0\n",
    "        ,\"rushing_touchdowns\": 0\n",
    "        ,\"receptions\": 8\n",
    "        ,\"receiving_yards\": 95\n",
    "        ,\"receiving_touchdowns\": 1\n",
    "    }\n",
    "]\n",
    "\n",
    "# print(f\"Our sample player: {player}\")"
   ]
  },
  {
   "cell_type": "code",
   "execution_count": 30,
   "id": "02592583",
   "metadata": {},
   "outputs": [
    {
     "name": "stdout",
     "output_type": "stream",
     "text": [
      "We now have 3 players\n",
      "Players: ['Josh Allen', 'Derrick Henry', 'Davante Adams']\n"
     ]
    }
   ],
   "source": [
    "# calculate fantasy points\n",
    "\n",
    "def calculate_fantasy_points(player): \n",
    "    # Passing yards: 1 point per 25 yards (so 300 yards = 12 points)\n",
    "    # Passing touchdowns: 4 points each\n",
    "    # Rushing yards: 1 point per 10 yards\n",
    "    # Rushing touchdowns: 6 points each\n",
    "    # Receptions: 1 point each\n",
    "    # Receiving Yards: 1 point per 10 yards\n",
    "    # Receiving TDs: 6 points each\n",
    "\n",
    "    passing_points = player[\"passing_yards\"] / 25 * 1\n",
    "    passing_td_points = player[\"passing_touchdowns\"] * 4\n",
    "    rushing_points = player[\"rushing_yards\"] / 10 * 1\n",
    "    rushing_td_points = player[\"rushing_touchdowns\"] * 6\n",
    "    reception_points = player[\"receptions\"] * 1\n",
    "    receiving_points = player[\"receiving_yards\"] / 10 * 1\n",
    "    receiving_td_points = player[\"receiving_touchdowns\"] * 6\n",
    "\n",
    "    total_points = (passing_points \n",
    "                    + passing_td_points \n",
    "                    + rushing_points \n",
    "                    + rushing_td_points\n",
    "                    + reception_points\n",
    "                    + receiving_points \n",
    "                    + receiving_td_points\n",
    "    )\n",
    "\n",
    "    return total_points\n",
    "\n",
    "print(f\"We now have {len(players)} players\")\n",
    "print(\"Players:\", [p[\"name\"] for p in players])"
   ]
  },
  {
   "cell_type": "code",
   "execution_count": null,
   "id": "632b3b70",
   "metadata": {},
   "outputs": [
    {
     "name": "stdout",
     "output_type": "stream",
     "text": [
      "Josh Allen (QB): 31.0 fantasy points\n",
      "Derrick Henry (RB): 29.5 fantasy points\n",
      "Davante Adams (WR): 23.5 fantasy points\n"
     ]
    }
   ],
   "source": [
    "# calculate for all players in dataset\n",
    "\n",
    "# iterate through every player in the dataset to calculate their total fantasy points\n",
    "for player in players:\n",
    "    points = calculate_fantasy_points(player)\n",
    "    print(f\"{player[\"name\"]} ({player[\"position\"]}): {points} fantasy points\")"
   ]
  }
 ],
 "metadata": {
  "kernelspec": {
   "display_name": "Python 3",
   "language": "python",
   "name": "python3"
  },
  "language_info": {
   "codemirror_mode": {
    "name": "ipython",
    "version": 3
   },
   "file_extension": ".py",
   "mimetype": "text/x-python",
   "name": "python",
   "nbconvert_exporter": "python",
   "pygments_lexer": "ipython3",
   "version": "3.13.6"
  }
 },
 "nbformat": 4,
 "nbformat_minor": 5
}
